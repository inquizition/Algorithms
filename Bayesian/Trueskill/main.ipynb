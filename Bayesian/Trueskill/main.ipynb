{
 "cells": [
  {
   "cell_type": "code",
   "execution_count": null,
   "metadata": {},
   "outputs": [],
   "source": [
    "import numpy as np"
   ]
  },
  {
   "cell_type": "markdown",
   "metadata": {},
   "source": [
    "![Bayesian  Network](./images/factor_graph_bg.png)"
   ]
  },
  {
   "cell_type": "markdown",
   "metadata": {},
   "source": [
    "\n",
    "$\\huge \\mu_{6} = \\sum_{y \\in \\{-1,1\\}} \\mu_{7}f_{4}(t,y)$ <br>\n",
    "$\\huge \\mu_{6} = \\sum_{y \\in \\{-1,1\\}} I(y=\\hat{y})I(y=SIGN(t))$ <br>\n",
    "$\\huge \\mu_{6} = I(\\hat{y} = SIGN(t)) = \\Big\\{ ^{I(t>0), \\hat{y} = 1} _{I(t \\leq 0), \\hat{y} = -1} $\n",
    "\n"
   ]
  },
  {
   "cell_type": "markdown",
   "metadata": {},
   "source": [
    "$\\mu_{3} = \\mu_{1} = f_{1}(s_{1}) \\quad$    and    $\\quad \\mu_{4} = \\mu_{2} = f_{2}(s_{2})$ <br>"
   ]
  },
  {
   "cell_type": "markdown",
   "metadata": {},
   "source": [
    "$\\huge \\mu_{5} \\int \\int^{\\infty}_{-\\infty} \\mu_{3}\\mu_{4}f_{3}(s_{1}, s_{2}, t) ds_{1}, ds_{2}$ <br>\n",
    "$\\huge = N(t;m_{1}- m_{2}, \\sigma_{1}²+\\sigma_{2}²+\\sigma_{t}²)$ <br>\n",
    "Independence: $p(s_{1},s_{2}) = p(s_{1})p(s_{2})$"
   ]
  },
  {
   "cell_type": "markdown",
   "metadata": {},
   "source": [
    "$\\huge p(t|y) = \\mu_{5}\\mu_{6} = \\Big\\{ ^{I(t>0) N(t;m_{1}- m_{2}, \\sigma_{1}²+\\sigma_{2}²+\\sigma_{t}²)} _{I(t \\leq 0)N(t;m_{1}- m_{2}, \\sigma_{1}²+\\sigma_{2}²+\\sigma_{t}²)} $ <br>\n",
    "Two truncated gaussians"
   ]
  },
  {
   "cell_type": "markdown",
   "metadata": {},
   "source": [
    "Aproximate the truncated gaussian with moment matching\n",
    "$\\hat{p}(t|y) = N(t;m_*,\\sigma²_*)$"
   ]
  },
  {
   "cell_type": "markdown",
   "metadata": {},
   "source": [
    "$\\huge \\mu_{9} = \\frac{\\hat{p}(t|y)}{\\mu_{5}} = N(t;m_{9}, \\sigma_{9}²)$ <br>\n",
    "$\\huge m_{9} = \\frac{\\sigma_*²(m_1 - m_2) - m_* (\\sigma_1² + \\sigma_2² + \\sigma_t²)}{\\sigma_1² + \\sigma_2² + \\sigma_t² - \\sigma_*²}$ <br>\n",
    "$\\huge \\sigma_9² = \\frac{\\sigma_*² (\\sigma_1² + \\sigma_2² + \\sigma_t²)}{\\sigma_1² + \\sigma_2² + \\sigma_t² - \\sigma_*²}$"
   ]
  },
  {
   "cell_type": "markdown",
   "metadata": {},
   "source": [
    "$\\huge \\mu_{10} = \\int \\int_{-\\infty}^{\\infty} \\mu_{9}f_3(s_1,s_2,t)f_2(s_2)dtds_2$ <br>\n",
    "$\\huge \\mu_{10} = \\int \\int_{-\\infty}^{\\infty} \\mu_{9}N(t;s_1 - s_2, \\sigma_t²)N(s_2;m_2,\\sigma_2²)dtds_2$ <br>\n",
    "$\\huge \\mu_{10} = \\int_{-\\infty}^{\\infty}\\mu_9 N(t;s_1 - m_2, \\sigma_t² + \\sigma_2²) dt$ <br>\n",
    "$\\huge \\mu_{10} = N(s_1;m_{10}, \\sigma_{10}²)$ <br>\n",
    "$\\huge m_{10} = m_9 - m_2$ <br>\n",
    "$\\huge \\sigma_{10}² = \\sigma_t² + \\sigma_2² + \\sigma_9²$"
   ]
  },
  {
   "cell_type": "markdown",
   "metadata": {},
   "source": [
    "$\\huge \\mu_{11} = N(s_2;m_{11}, \\sigma_{11}²)$ <br>\n",
    "$\\huge m_{11} = m_1 - m_9$ <br>\n",
    "$\\huge \\sigma_{11}² = \\sigma_t² + \\sigma_1² + \\sigma_9²$"
   ]
  },
  {
   "cell_type": "markdown",
   "metadata": {},
   "source": [
    "The marginal densities of $s_1$ and $s_2$: <br>\n",
    "$\\huge p(s_1|y) = f_1(s_1)\\mu_{10} = N(s_1; \\frac{m_1\\sigma_{10}² + m_{10}\\sigma_1²}{\\sigma_{10}²+\\sigma_1²}, \\frac{ \\sigma_{10}²\\sigma_1² }{ \\sigma_{10}² + \\sigma_1² })$ <br>\n",
    "$\\huge p(s_2|y) = f_2(s_2)\\mu_{11} = N(s_2; \\frac{m_2\\sigma_{11}² + m_{11}\\sigma_2²}{\\sigma_{11}²+\\sigma_2²}, \\frac{ \\sigma_{11}²\\sigma_2² }{ \\sigma_{11}² + \\sigma_2² })$"
   ]
  }
 ],
 "metadata": {
  "language_info": {
   "name": "python"
  },
  "orig_nbformat": 4
 },
 "nbformat": 4,
 "nbformat_minor": 2
}
