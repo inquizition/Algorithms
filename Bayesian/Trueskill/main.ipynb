{
 "cells": [
  {
   "cell_type": "code",
   "execution_count": 1,
   "metadata": {},
   "outputs": [],
   "source": [
    "import numpy as np\n",
    "import matplotlib.pyplot as plt\n",
    "import math \n",
    "import scipy.stats as stats"
   ]
  },
  {
   "cell_type": "code",
   "execution_count": 13,
   "metadata": {},
   "outputs": [],
   "source": [
    "class Team():\n",
    "\n",
    "  def __init__(self, mu=1, var=1, name=None):\n",
    "    self.mu = mu        # Mean skill.\n",
    "    self.var = var      # Variance of skill.\n",
    "    self.name = name    # Name of the team.\n",
    "\n",
    "  def get_mu(self):\n",
    "    return self.mu\n",
    "\n",
    "  def get_var(self):\n",
    "    return self.var\n",
    "\n",
    "  def get_name(self):\n",
    "    return self.name\n",
    "\n",
    "  def set_mu(self, new_mu):\n",
    "    self.mu = new_mu\n",
    "\n",
    "  def set_var(self, new_var):\n",
    "    self.var = new_var\n",
    "\n",
    "  def set_name(self, new_name):\n",
    "    self.name = new_name\n",
    "\n",
    "  def plotDist(self, colour=\"black\", linetype=\"dashed\"):\n",
    "    sigma = math.sqrt(self.var)\n",
    "    x = np.linspace(self.mu - 3*sigma, self.mu + 3*sigma, 100)\n",
    "    line, = plt.plot(x, stats.norm.pdf(x, self.mu, sigma))\n",
    "    line.set_color(colour)\n",
    "    line.set_linestyle(linetype)\n",
    "\n",
    "  def __repr__(self):\n",
    "    return \"{}: mu={}, var={}\".format(self.name,\n",
    "                                       self.mu,\n",
    "                                       self.var)"
   ]
  },
  {
   "cell_type": "markdown",
   "metadata": {},
   "source": [
    "![Bayesian  Network](./images/factor_graph_bg.png)"
   ]
  },
  {
   "cell_type": "code",
   "execution_count": 3,
   "metadata": {},
   "outputs": [],
   "source": [
    "class Message():\n",
    "\n",
    "    def __init__(self, mean, var):\n",
    "        self.mean = mean\n",
    "        self.var = var\n",
    "\n",
    "    def truncMM(self, y):\n",
    "        if y==1:\n",
    "            a = 0\n",
    "            b = np.inf\n",
    "        else:\n",
    "            a = -np.inf\n",
    "            b = 0\n",
    "        a_s, b_s = (a - self.mean)/np.sqrt(self.var), (b - self.mean)/np.sqrt(self.var)\n",
    "        m = stats.truncnorm(a_s, b_s, loc=self.mean, scale=np.sqrt(self.var)).mean()\n",
    "        v = stats.truncnorm(a_s, b_s, loc=self.mean, scale=np.sqrt(self.var)).var()\n",
    "        return Message(m, v)\n",
    "\n",
    "    def multiply(self, mu):\n",
    "        mp = (self.mean*mu.var + mu.mean*self.var)/(mu.var + self.var)\n",
    "        vp = mu.var*self.var/(mu.var + self.var)\n",
    "        return Message(mp, vp)\n",
    "\n",
    "    def divide(self, mu):\n",
    "        mf = (self.mean*mu.var - mu.mean*self.var)/(mu.var - self.var)\n",
    "        vf = mu.var*self.var/(mu.var - self.var)\n",
    "        return Message(mf, vf)\n",
    "\n",
    "    def __repr__(self):\n",
    "        return 'mean:{}, var:{}'.format(self.mean,\n",
    "                                        self.var)"
   ]
  },
  {
   "cell_type": "markdown",
   "metadata": {},
   "source": [
    "\n",
    "$\\huge \\mu_{6} = \\sum_{y \\in \\{-1,1\\}} \\mu_{7}f_{4}(t,y)$ <br>\n",
    "$\\huge \\mu_{6} = \\sum_{y \\in \\{-1,1\\}} I(y=\\hat{y})I(y=SIGN(t))$ <br>\n",
    "$\\huge \\mu_{6} = I(\\hat{y} = SIGN(t)) = \\Big\\{ ^{I(t>0), \\hat{y} = 1} _{I(t \\leq 0), \\hat{y} = -1} $\n",
    "\n"
   ]
  },
  {
   "cell_type": "markdown",
   "metadata": {},
   "source": [
    "$\\mu_{3} = \\mu_{1} = f_{1}(s_{1}) \\quad$    and    $\\quad \\mu_{4} = \\mu_{2} = f_{2}(s_{2})$ <br>"
   ]
  },
  {
   "cell_type": "markdown",
   "metadata": {},
   "source": [
    "$\\huge \\mu_{5} \\int \\int^{\\infty}_{-\\infty} \\mu_{3}\\mu_{4}f_{3}(s_{1}, s_{2}, t) ds_{1}, ds_{2}$ <br>\n",
    "$\\huge = N(t;m_{1}- m_{2}, \\sigma_{1}²+\\sigma_{2}²+\\sigma_{t}²)$ <br>\n",
    "Independence: $p(s_{1},s_{2}) = p(s_{1})p(s_{2})$"
   ]
  },
  {
   "cell_type": "markdown",
   "metadata": {},
   "source": [
    "$\\huge p(t|y) = \\mu_{5}\\mu_{6} = \\Big\\{ ^{I(t>0) N(t;m_{1}- m_{2}, \\sigma_{1}²+\\sigma_{2}²+\\sigma_{t}²)} _{I(t \\leq 0)N(t;m_{1}- m_{2}, \\sigma_{1}²+\\sigma_{2}²+\\sigma_{t}²)} $ <br>\n",
    "Two truncated gaussians"
   ]
  },
  {
   "cell_type": "markdown",
   "metadata": {},
   "source": [
    "Aproximate the truncated gaussian with moment matching\n",
    "$\\hat{p}(t|y) = N(t;m_*,\\sigma²_*)$"
   ]
  },
  {
   "cell_type": "markdown",
   "metadata": {},
   "source": [
    "$\\huge \\mu_{9} = \\frac{\\hat{p}(t|y)}{\\mu_{5}} = N(t;m_{9}, \\sigma_{9}²)$ <br>\n",
    "$\\huge m_{9} = \\frac{\\sigma_*²(m_1 - m_2) - m_* (\\sigma_1² + \\sigma_2² + \\sigma_t²)}{\\sigma_1² + \\sigma_2² + \\sigma_t² - \\sigma_*²}$ <br>\n",
    "$\\huge \\sigma_9² = \\frac{\\sigma_*² (\\sigma_1² + \\sigma_2² + \\sigma_t²)}{\\sigma_1² + \\sigma_2² + \\sigma_t² - \\sigma_*²}$"
   ]
  },
  {
   "cell_type": "markdown",
   "metadata": {},
   "source": [
    "$\\huge \\mu_{10} = \\int \\int_{-\\infty}^{\\infty} \\mu_{9}f_3(s_1,s_2,t)f_2(s_2)dtds_2$ <br>\n",
    "$\\huge \\mu_{10} = \\int \\int_{-\\infty}^{\\infty} \\mu_{9}N(t;s_1 - s_2, \\sigma_t²)N(s_2;m_2,\\sigma_2²)dtds_2$ <br>\n",
    "$\\huge \\mu_{10} = \\int_{-\\infty}^{\\infty}\\mu_9 N(t;s_1 - m_2, \\sigma_t² + \\sigma_2²) dt$ <br>\n",
    "$\\huge \\mu_{10} = N(s_1;m_{10}, \\sigma_{10}²)$ <br>\n",
    "$\\huge m_{10} = m_9 - m_2$ <br>\n",
    "$\\huge \\sigma_{10}² = \\sigma_t² + \\sigma_2² + \\sigma_9²$"
   ]
  },
  {
   "cell_type": "markdown",
   "metadata": {},
   "source": [
    "$\\huge \\mu_{11} = N(s_2;m_{11}, \\sigma_{11}²)$ <br>\n",
    "$\\huge m_{11} = m_1 - m_9$ <br>\n",
    "$\\huge \\sigma_{11}² = \\sigma_t² + \\sigma_1² + \\sigma_9²$"
   ]
  },
  {
   "cell_type": "markdown",
   "metadata": {},
   "source": [
    "The marginal densities of $s_1$ and $s_2$: <br>\n",
    "$\\huge p(s_1|y) = f_1(s_1)\\mu_{10} = N(s_1; \\frac{m_1\\sigma_{10}² + m_{10}\\sigma_1²}{\\sigma_{10}²+\\sigma_1²}, \\frac{ \\sigma_{10}²\\sigma_1² }{ \\sigma_{10}² + \\sigma_1² })$ <br>\n",
    "$\\huge p(s_2|y) = f_2(s_2)\\mu_{11} = N(s_2; \\frac{m_2\\sigma_{11}² + m_{11}\\sigma_2²}{\\sigma_{11}²+\\sigma_2²}, \\frac{ \\sigma_{11}²\\sigma_2² }{ \\sigma_{11}² + \\sigma_2² })$"
   ]
  },
  {
   "cell_type": "code",
   "execution_count": 4,
   "metadata": {},
   "outputs": [],
   "source": [
    "def update_skills_MP(t1, t2, var_t, y_obs):\n",
    "    mu1 = Message(t1.mu, t1.var)\n",
    "    mu2 = Message(t2.mu, t2.var)\n",
    "    mu3 = mu1\n",
    "    mu4 = mu2\n",
    "    mu5 = Message(t1.mu - t2.mu, t1.var + t2.var + var_t)\n",
    "    marginal_t = mu5.truncMM(y_obs)\n",
    "    mu9 = marginal_t.divide(mu5)\n",
    "    mu10 = Message(mu9.mean + mu2.mean, var_t + mu2.var + mu9.var)\n",
    "    mu11 = Message(mu1.mean - mu9.mean, var_t + mu1.var + mu9.var)\n",
    "    marginal_s1 = mu10.multiply(mu1)\n",
    "    marginal_s2 = mu11.multiply(mu2)\n",
    "    t1.set_mu(marginal_s1.mean)\n",
    "    t1.set_var(marginal_s1.var)\n",
    "    t2.set_mu(marginal_s2.mean)\n",
    "    t2.set_var(marginal_s2.var)"
   ]
  },
  {
   "cell_type": "code",
   "execution_count": 24,
   "metadata": {},
   "outputs": [
    {
     "data": {
      "image/png": "[encoded data removed]",
      "text/plain": [
       "<Figure size 432x288 with 1 Axes>"
      ]
     },
     "metadata": {
      "needs_background": "light"
     },
     "output_type": "display_data"
    }
   ],
   "source": [
    "team1 = Team(5, 10, 'team1')\n",
    "team2 = Team(1, 10, 'team2')\n",
    "team3 = Team(5, 10, 'team3')\n",
    "team4 = Team(1, 10, 'team4')\n",
    "\n",
    "team1.plotDist(\"orange\", \"solid\")\n",
    "team2.plotDist(\"blue\", \"solid\")\n",
    "\n",
    "var_t = 3\n",
    "y_obs = 1\n",
    "\n",
    "update_skills_MP(team1, team2, var_t, y_obs)\n",
    "\n",
    "team1.plotDist(\"orange\")\n",
    "team2.plotDist(\"blue\")\n",
    "plt.legend([\"team 1\", \"team 2\", \"team 1 after\", \"team 2 after\"])\n",
    "\n",
    "y_obs = 0\n",
    "update_skills_MP(team1, team2, var_t, y_obs)\n",
    "\n",
    "team1.plotDist(\"orange\")\n",
    "team2.plotDist(\"blue\")"
   ]
  }
 ],
 "metadata": {
  "kernelspec": {
   "display_name": "Python 3.9.7 64-bit",
   "language": "python",
   "name": "python3"
  },
  "language_info": {
   "codemirror_mode": {
    "name": "ipython",
    "version": 3
   },
   "file_extension": ".py",
   "mimetype": "text/x-python",
   "name": "python",
   "nbconvert_exporter": "python",
   "pygments_lexer": "ipython3",
   "version": "3.10.1"
  },
  "orig_nbformat": 4,
  "vscode": {
   "interpreter": {
    "hash": "09faf086a90008b9319452bfabc29f493f342d719791d98121eaaa9336310e36"
   }
  }
 },
 "nbformat": 4,
 "nbformat_minor": 2
}
