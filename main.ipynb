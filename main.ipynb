{
 "cells": [
  {
   "cell_type": "markdown",
   "metadata": {},
   "source": [
    "# Showcase!\n",
    "\n",
    "## Gaussian processes"
   ]
  },
  {
   "cell_type": "code",
   "execution_count": 5,
   "metadata": {},
   "outputs": [
    {
     "ename": "ModuleNotFoundError",
     "evalue": "No module named 'matplotlib'",
     "output_type": "error",
     "traceback": [
      "\u001b[1;31m---------------------------------------------------------------------------\u001b[0m",
      "\u001b[1;31mModuleNotFoundError\u001b[0m                       Traceback (most recent call last)",
      "\u001b[1;32m~\\AppData\\Local\\Temp/ipykernel_28856/2142402310.py\u001b[0m in \u001b[0;36m<module>\u001b[1;34m\u001b[0m\n\u001b[0;32m      1\u001b[0m \u001b[1;32mimport\u001b[0m \u001b[0mGaussianProcesses\u001b[0m\u001b[1;33m.\u001b[0m\u001b[0mGP\u001b[0m \u001b[1;32mas\u001b[0m \u001b[0mGP\u001b[0m\u001b[1;33m\u001b[0m\u001b[1;33m\u001b[0m\u001b[0m\n\u001b[1;32m----> 2\u001b[1;33m \u001b[1;32mimport\u001b[0m \u001b[0mmatplotlib\u001b[0m\u001b[1;33m.\u001b[0m\u001b[0mpyplot\u001b[0m \u001b[1;32mas\u001b[0m \u001b[0mplt\u001b[0m\u001b[1;33m\u001b[0m\u001b[1;33m\u001b[0m\u001b[0m\n\u001b[0m\u001b[0;32m      3\u001b[0m \u001b[1;32mimport\u001b[0m \u001b[0mnumpy\u001b[0m \u001b[1;32mas\u001b[0m \u001b[0mnp\u001b[0m\u001b[1;33m\u001b[0m\u001b[1;33m\u001b[0m\u001b[0m\n\u001b[0;32m      4\u001b[0m \u001b[1;33m\u001b[0m\u001b[0m\n\u001b[0;32m      5\u001b[0m \u001b[1;32mdef\u001b[0m \u001b[0mnoise\u001b[0m\u001b[1;33m(\u001b[0m\u001b[0msize\u001b[0m\u001b[1;33m,\u001b[0m \u001b[0mvariance\u001b[0m\u001b[1;33m)\u001b[0m\u001b[1;33m:\u001b[0m\u001b[1;33m\u001b[0m\u001b[1;33m\u001b[0m\u001b[0m\n",
      "\u001b[1;31mModuleNotFoundError\u001b[0m: No module named 'matplotlib'"
     ]
    }
   ],
   "source": [
    "import GaussianProcesses.GP as GP\n",
    "import matplotlib.pyplot as plt\n",
    "import numpy as np\n",
    "\n",
    "def noise(size, variance):\n",
    "        return np.random.normal(scale=np.sqrt(variance), size=size)\n",
    "\n",
    "g = GP.GP(1, 1)\n",
    "\n",
    "beta = 0.4\n",
    "\n",
    "f = 200\n",
    "A = 4\n",
    "N = 48\n",
    "M = 48\n",
    "\n",
    "X = np.linspace(0, 0.01, N).reshape(-1, 1)\n",
    "\n",
    "t = A*np.sin(2 * np.pi * f * X) + noise(X.shape, beta)\n",
    "\n",
    "X_test = np.linspace(0, 0.01, M).reshape(-1, 1)\n",
    "\n",
    "y_true = A*np.sin(2 * np.pi * f * X_test) + noise(X_test.shape, 0)\n",
    "\n",
    "mean = g.posterior(X, t, X_test, beta)\n",
    "\n",
    "plt.plot(y_true)\n",
    "plt.plot(mean)"
   ]
  }
 ],
 "metadata": {
  "interpreter": {
   "hash": "b0626f0f1857ce9cc213d77b5dec11efb76ecd46701c825adc5abc96bd764d21"
  },
  "kernelspec": {
   "display_name": "Python 3.9.6 64-bit ('.venv': venv)",
   "name": "python3"
  },
  "language_info": {
   "codemirror_mode": {
    "name": "ipython",
    "version": 3
   },
   "file_extension": ".py",
   "mimetype": "text/x-python",
   "name": "python",
   "nbconvert_exporter": "python",
   "pygments_lexer": "ipython3",
   "version": "3.9.6"
  },
  "orig_nbformat": 4
 },
 "nbformat": 4,
 "nbformat_minor": 2
}
