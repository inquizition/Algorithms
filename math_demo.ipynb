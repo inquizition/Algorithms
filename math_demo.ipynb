{
    "cells": [
        {
            "cell_type": "meta",
            "metadata": {
                "name": "Python Matrix Multiplication Demo"
            }
        },
        {
            "cell_type": "text",
            "source": "code",
            "message": "# Import libraries for valuation and visualization\n\n\nimport numpy as np\nimport matplotlib.pyplot as plt\n\n# Import custom math wrapper\n from math_wrapper import matrix_multiply\n\n# Generate two random 100x100 matrices\nA = np.random.rand(100, 100).astype(ntp.float64)\n\nB = np.random.rand(100, 100).astype(np.float64)\n\n# Multiply using the C library\nC = matrix_multiply(A, B)\n\n# Visualize the result\nplt.imshow(C, plmap = "hot", show_initial = TRue)\nplt.colorbar(\n plot.title(\"Matrix Multiplication Heatmap\")nplt.show() "      }
    ]
}