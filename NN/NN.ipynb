{
 "cells": [
  {
   "cell_type": "code",
   "execution_count": null,
   "metadata": {},
   "outputs": [],
   "source": [
    "import numpy as np\n",
    "import matplotlib.pyplot"
   ]
  },
  {
   "cell_type": "code",
   "execution_count": null,
   "metadata": {},
   "outputs": [],
   "source": [
    "class Layer():\n",
    "    def __init__(self, W, b, q, z, dQ, inputSize, next):\n",
    "        self.W = W\n",
    "        self.b = b\n",
    "        self.q = q\n",
    "        self.z = z\n",
    "        self.dQ = dQ\n",
    "        self.inputSize = inputSize\n",
    "        self.next = next\n",
    "\n",
    "    def disp(self):\n",
    "        print(f\"Weights: {self.W}, bias: {self.b}, q = {self.q}, z = {self.z}, dQ = {self.dQ}\")"
   ]
  }
 ],
 "metadata": {
  "kernelspec": {
   "display_name": "Python 3.9.7 64-bit",
   "language": "python",
   "name": "python3"
  },
  "language_info": {
   "name": "python",
   "version": "3.9.7"
  },
  "orig_nbformat": 4,
  "vscode": {
   "interpreter": {
    "hash": "09faf086a90008b9319452bfabc29f493f342d719791d98121eaaa9336310e36"
   }
  }
 },
 "nbformat": 4,
 "nbformat_minor": 2
}
